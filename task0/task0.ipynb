{
 "cells": [
  {
   "cell_type": "code",
   "execution_count": 2,
   "id": "6cf64509-83f8-44dd-a9a7-f04fad25bfa5",
   "metadata": {},
   "outputs": [],
   "source": [
    "import pandas as pd\n",
    "import numpy as np\n",
    "import matplotlib.pyplot as plt\n",
    "import seaborn as sns"
   ]
  },
  {
   "cell_type": "code",
   "execution_count": 13,
   "id": "4c852814-66b9-4d25-91d1-5f21b05e019e",
   "metadata": {},
   "outputs": [
    {
     "name": "stdout",
     "output_type": "stream",
     "text": [
      "Index(['Id', 'y', 'x1', 'x2', 'x3', 'x4', 'x5', 'x6', 'x7', 'x8', 'x9', 'x10'], dtype='object')\n",
      "9999\n"
     ]
    }
   ],
   "source": [
    "train = pd.read_csv('train.csv')\n",
    "print(train.columns)\n",
    "print(max(train['Id']))\n",
    "N = max(train['Id'])+1"
   ]
  },
  {
   "cell_type": "code",
   "execution_count": 11,
   "id": "58e40fd7-e7e0-4984-9932-7e7b739749d8",
   "metadata": {},
   "outputs": [
    {
     "data": {
      "text/html": [
       "<div>\n",
       "<style scoped>\n",
       "    .dataframe tbody tr th:only-of-type {\n",
       "        vertical-align: middle;\n",
       "    }\n",
       "\n",
       "    .dataframe tbody tr th {\n",
       "        vertical-align: top;\n",
       "    }\n",
       "\n",
       "    .dataframe thead th {\n",
       "        text-align: right;\n",
       "    }\n",
       "</style>\n",
       "<table border=\"1\" class=\"dataframe\">\n",
       "  <thead>\n",
       "    <tr style=\"text-align: right;\">\n",
       "      <th></th>\n",
       "      <th>Id</th>\n",
       "      <th>y</th>\n",
       "      <th>x1</th>\n",
       "      <th>x2</th>\n",
       "      <th>x3</th>\n",
       "      <th>x4</th>\n",
       "      <th>x5</th>\n",
       "      <th>x6</th>\n",
       "      <th>x7</th>\n",
       "      <th>x8</th>\n",
       "      <th>x9</th>\n",
       "      <th>x10</th>\n",
       "    </tr>\n",
       "  </thead>\n",
       "  <tbody>\n",
       "    <tr>\n",
       "      <th>0</th>\n",
       "      <td>0</td>\n",
       "      <td>738.023171</td>\n",
       "      <td>1764.052346</td>\n",
       "      <td>400.157208</td>\n",
       "      <td>978.737984</td>\n",
       "      <td>2240.893199</td>\n",
       "      <td>1867.55799</td>\n",
       "      <td>-977.27788</td>\n",
       "      <td>950.088418</td>\n",
       "      <td>-151.357208</td>\n",
       "      <td>-103.218852</td>\n",
       "      <td>410.598502</td>\n",
       "    </tr>\n",
       "  </tbody>\n",
       "</table>\n",
       "</div>"
      ],
      "text/plain": [
       "   Id           y           x1          x2          x3           x4  \\\n",
       "0   0  738.023171  1764.052346  400.157208  978.737984  2240.893199   \n",
       "\n",
       "           x5         x6          x7          x8          x9         x10  \n",
       "0  1867.55799 -977.27788  950.088418 -151.357208 -103.218852  410.598502  "
      ]
     },
     "execution_count": 11,
     "metadata": {},
     "output_type": "execute_result"
    }
   ],
   "source": [
    "train[train['Id']==0]"
   ]
  },
  {
   "cell_type": "code",
   "execution_count": 4,
   "id": "4eeff8de-b08f-43cc-bfdf-99a04b2dd799",
   "metadata": {},
   "outputs": [
    {
     "data": {
      "image/png": "[encoded data removed]",
      "text/plain": [
       "<Figure size 864x648 with 2 Axes>"
      ]
     },
     "metadata": {
      "needs_background": "light"
     },
     "output_type": "display_data"
    }
   ],
   "source": [
    "corrmat = train.corr()\n",
    "f, ax = plt.subplots(figsize=(12,9))\n",
    "sns.heatmap(corrmat, vmax=.8, square=True)\n",
    "plt.show()"
   ]
  },
  {
   "cell_type": "markdown",
   "id": "b38ec8e5-2386-4753-85ab-7067d40df107",
   "metadata": {},
   "source": [
    "This shows that the dimensions of input are not related. We treat them as independent. First, we assume that it is a linear model."
   ]
  },
  {
   "cell_type": "code",
   "execution_count": 32,
   "id": "d5d0fa56-efb9-4353-9bc0-4125d9a40f86",
   "metadata": {},
   "outputs": [
    {
     "name": "stdout",
     "output_type": "stream",
     "text": [
      "[0.1 0.1 0.1 0.1 0.1 0.1 0.1 0.1 0.1 0.1]\n",
      "1.2060373579439934e-14\n"
     ]
    }
   ],
   "source": [
    "from sklearn.linear_model import LinearRegression\n",
    "X = train[['x1', 'x2', 'x3', 'x4', 'x5', 'x6', 'x7', 'x8', 'x9', 'x10']].to_numpy()\n",
    "y = train['y'].to_numpy()\n",
    "reg = LinearRegression().fit(X, y)\n",
    "print(reg.coef_)\n",
    "\n",
    "# train validation\n",
    "y_hat_train = X@reg.coef_.T\n",
    "L_train = 1/N*np.sqrt(np.sum((y_hat_train-y)**2))\n",
    "print(L_train)"
   ]
  },
  {
   "cell_type": "markdown",
   "id": "57b5d76e-424b-49f5-8d1d-8e6582c65be8",
   "metadata": {},
   "source": [
    "Indeed, it is a linear model. Problem solved! Now we do k-fold validation."
   ]
  },
  {
   "cell_type": "code",
   "execution_count": 42,
   "id": "916574b7-a5ff-4136-96d1-8b61157bd672",
   "metadata": {},
   "outputs": [
    {
     "name": "stdout",
     "output_type": "stream",
     "text": [
      "8.9267479086325e-15\n",
      "[1.3433967581923732e-14, 7.723538904340543e-15, 9.743316129503113e-15, 7.916113343730164e-15, 6.51970165399696e-15, 1.2725859820107188e-14, 7.626837402103153e-15, 8.225248504835642e-15, 7.928115812941545e-15, 7.424779932842948e-15]\n",
      "[0.1 0.1 0.1 0.1 0.1 0.1 0.1 0.1 0.1 0.1]\n"
     ]
    },
    {
     "data": {
      "text/plain": [
       "[<matplotlib.lines.Line2D at 0x15310fc7550>]"
      ]
     },
     "execution_count": 42,
     "metadata": {},
     "output_type": "execute_result"
    },
    {
     "data": {
      "image/png": "[encoded data removed]",
      "text/plain": [
       "<Figure size 864x216 with 1 Axes>"
      ]
     },
     "metadata": {
      "needs_background": "light"
     },
     "output_type": "display_data"
    }
   ],
   "source": [
    "from sklearn.model_selection import KFold\n",
    "kf = KFold(n_splits=10)\n",
    "coe = reg.coef_.T*0\n",
    "L_buf = []\n",
    "for train_index, val_index in kf.split(X):\n",
    "    # print(\"TRAIN:\", train_index, \"TEST:\", val_index)\n",
    "    X_train, X_val = X[train_index], X[val_index]\n",
    "    y_train, y_val = y[train_index], y[val_index]\n",
    "    reg = LinearRegression().fit(X_train, y_train)\n",
    "    L_val = 1/len(y_val)*np.sqrt(np.sum((X_val@reg.coef_.T-y_val)**2))\n",
    "    L_buf.append(L_val)\n",
    "    coe += reg.coef_.T\n",
    "    \n",
    "coe = coe/10\n",
    "L_ave = sum(L_buf)/10\n",
    "print(L_ave)\n",
    "print(L_buf)\n",
    "print(coe)\n",
    "f, ax = plt.subplots(figsize=(12,3))\n",
    "ax.plot(range(10),L_buf)"
   ]
  },
  {
   "cell_type": "code",
   "execution_count": 43,
   "id": "6fa5f1c2-0ce5-41a0-9781-bf3d96186b8e",
   "metadata": {},
   "outputs": [
    {
     "name": "stdout",
     "output_type": "stream",
     "text": [
      "0       -66.002423\n",
      "1       451.406504\n",
      "2      -461.676417\n",
      "3        40.501209\n",
      "4      -126.744722\n",
      "           ...    \n",
      "1995    464.715255\n",
      "1996    496.485334\n",
      "1997    -35.135409\n",
      "1998   -131.679185\n",
      "1999    417.269155\n",
      "Length: 2000, dtype: float64\n"
     ]
    }
   ],
   "source": [
    "# test inference\n",
    "test = pd.read_csv('test.csv')\n",
    "X_test = test[['x1', 'x2', 'x3', 'x4', 'x5', 'x6', 'x7', 'x8', 'x9', 'x10']]\n",
    "y_hat_test = X_test@reg.coef_.T\n",
    "print(y_hat_test)"
   ]
  },
  {
   "cell_type": "code",
   "execution_count": 52,
   "id": "c61bc261-5928-44dc-8e5b-ee0046a3a818",
   "metadata": {},
   "outputs": [],
   "source": [
    "df_out = pd.DataFrame({'Id': range(N,N+len(y_hat_test)), 'y': y_hat_test})\n",
    "df_out.to_csv('submit.csv', index=False) \n"
   ]
  }
 ],
 "metadata": {
  "kernelspec": {
   "display_name": "Python 3",
   "language": "python",
   "name": "python3"
  },
  "language_info": {
   "codemirror_mode": {
    "name": "ipython",
    "version": 3
   },
   "file_extension": ".py",
   "mimetype": "text/x-python",
   "name": "python",
   "nbconvert_exporter": "python",
   "pygments_lexer": "ipython3",
   "version": "3.8.8"
  }
 },
 "nbformat": 4,
 "nbformat_minor": 5
}
